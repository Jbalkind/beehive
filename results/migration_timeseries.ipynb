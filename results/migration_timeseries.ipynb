{
 "cells": [
  {
   "cell_type": "markdown",
   "metadata": {},
   "source": [
    "# Migration Timeseries"
   ]
  },
  {
   "cell_type": "code",
   "execution_count": 1,
   "metadata": {},
   "outputs": [],
   "source": [
    "import numpy as np\n",
    "import pandas as pd\n",
    "import matplotlib.pyplot as plt\n",
    "import matplotlib.colors as mcolors\n",
    "from palettable.cubehelix import Cubehelix\n",
    "import seaborn as sns\n",
    "import math"
   ]
  },
  {
   "cell_type": "code",
   "execution_count": 2,
   "metadata": {},
   "outputs": [],
   "source": [
    "OUTPUT_DIR=\"migration_timeseries/\"\n",
    "CYCLES_PER_SEC = 250000000\n",
    "CYCLE_TIME = 4 * (10**-9)"
   ]
  },
  {
   "cell_type": "code",
   "execution_count": 3,
   "metadata": {},
   "outputs": [
    {
     "data": {
      "text/plain": [
       "249999999.99999997"
      ]
     },
     "execution_count": 3,
     "metadata": {},
     "output_type": "execute_result"
    }
   ],
   "source": [
    "1/(4 * (10 ** -9))"
   ]
  },
  {
   "cell_type": "code",
   "execution_count": 4,
   "metadata": {},
   "outputs": [],
   "source": [
    "def save_fig(file_name, figure, output_dir):\n",
    "    figure.patch.set_facecolor(\"white\")\n",
    "    figure.savefig(output_dir + file_name, bbox_inches=\"tight\")"
   ]
  },
  {
   "cell_type": "code",
   "execution_count": 5,
   "metadata": {},
   "outputs": [],
   "source": [
    "def trim_series(input_df, trim_end_cycles):\n",
    "    input_df[\"timestamp\"] = input_df[\"timestamp\"].apply(int, base=16)\n",
    "    input_df[\"reqs_done\"] = input_df[\"reqs_done\"].apply(int, base=16)\n",
    "    trimmed_data = input_df.loc[input_df[\"reqs_done\"] != 0]\n",
    "\n",
    "    last_time = trimmed_data.iloc[-1][\"timestamp\"]\n",
    "    \n",
    "    last_trim_time = last_time - trim_end_cycles\n",
    "    trimmed_data = trimmed_data.loc[trimmed_data[\"timestamp\"] < last_trim_time]\n",
    "\n",
    "    start_time = trimmed_data.iloc[0][\"timestamp\"]\n",
    "    trimmed_data[\"adjusted_time\"] = trimmed_data[\"timestamp\"] - start_time\n",
    "    return trimmed_data"
   ]
  },
  {
   "cell_type": "code",
   "execution_count": 6,
   "metadata": {},
   "outputs": [],
   "source": [
    "timeseries_data = pd.read_csv(\"test_file.csv\")\n",
    "trimmed_data = trim_series(timeseries_data, CYCLES_PER_SEC/2)\n"
   ]
  },
  {
   "cell_type": "code",
   "execution_count": 7,
   "metadata": {},
   "outputs": [],
   "source": [
    "taskset_timeseries_data = pd.read_csv(\"taskset_test_file.csv\")\n",
    "trimmed_taskset = trim_series(taskset_timeseries_data, 0)"
   ]
  },
  {
   "cell_type": "code",
   "execution_count": null,
   "metadata": {},
   "outputs": [],
   "source": []
  },
  {
   "cell_type": "code",
   "execution_count": 36,
   "metadata": {},
   "outputs": [
    {
     "ename": "KeyError",
     "evalue": "'timestamp'",
     "output_type": "error",
     "traceback": [
      "\u001b[0;31m---------------------------------------------------------------------------\u001b[0m",
      "\u001b[0;31mKeyError\u001b[0m                                  Traceback (most recent call last)",
      "File \u001b[0;32m~/miniconda3/envs/beehive_cocotb/lib/python3.9/site-packages/pandas/core/indexes/base.py:3790\u001b[0m, in \u001b[0;36mIndex.get_loc\u001b[0;34m(self, key)\u001b[0m\n\u001b[1;32m   3789\u001b[0m \u001b[38;5;28;01mtry\u001b[39;00m:\n\u001b[0;32m-> 3790\u001b[0m     \u001b[38;5;28;01mreturn\u001b[39;00m \u001b[38;5;28;43mself\u001b[39;49m\u001b[38;5;241;43m.\u001b[39;49m\u001b[43m_engine\u001b[49m\u001b[38;5;241;43m.\u001b[39;49m\u001b[43mget_loc\u001b[49m\u001b[43m(\u001b[49m\u001b[43mcasted_key\u001b[49m\u001b[43m)\u001b[49m\n\u001b[1;32m   3791\u001b[0m \u001b[38;5;28;01mexcept\u001b[39;00m \u001b[38;5;167;01mKeyError\u001b[39;00m \u001b[38;5;28;01mas\u001b[39;00m err:\n",
      "File \u001b[0;32mindex.pyx:152\u001b[0m, in \u001b[0;36mpandas._libs.index.IndexEngine.get_loc\u001b[0;34m()\u001b[0m\n",
      "File \u001b[0;32mindex.pyx:181\u001b[0m, in \u001b[0;36mpandas._libs.index.IndexEngine.get_loc\u001b[0;34m()\u001b[0m\n",
      "File \u001b[0;32mpandas/_libs/hashtable_class_helper.pxi:7080\u001b[0m, in \u001b[0;36mpandas._libs.hashtable.PyObjectHashTable.get_item\u001b[0;34m()\u001b[0m\n",
      "File \u001b[0;32mpandas/_libs/hashtable_class_helper.pxi:7088\u001b[0m, in \u001b[0;36mpandas._libs.hashtable.PyObjectHashTable.get_item\u001b[0;34m()\u001b[0m\n",
      "\u001b[0;31mKeyError\u001b[0m: 'timestamp'",
      "\nThe above exception was the direct cause of the following exception:\n",
      "\u001b[0;31mKeyError\u001b[0m                                  Traceback (most recent call last)",
      "Cell \u001b[0;32mIn[36], line 2\u001b[0m\n\u001b[1;32m      1\u001b[0m open_loop \u001b[38;5;241m=\u001b[39m pd\u001b[38;5;241m.\u001b[39mread_csv(\u001b[38;5;124m\"\u001b[39m\u001b[38;5;124mopen_loop_test_file.csv\u001b[39m\u001b[38;5;124m\"\u001b[39m)\n\u001b[0;32m----> 2\u001b[0m open_loop_trimmed \u001b[38;5;241m=\u001b[39m \u001b[43mtrim_series\u001b[49m\u001b[43m(\u001b[49m\u001b[43mopen_loop\u001b[49m\u001b[43m,\u001b[49m\u001b[43m \u001b[49m\u001b[43mCYCLES_PER_SEC\u001b[49m\u001b[38;5;241;43m/\u001b[39;49m\u001b[38;5;241;43m4\u001b[39;49m\u001b[43m)\u001b[49m\u001b[38;5;241m.\u001b[39msort_values(\u001b[38;5;124m\"\u001b[39m\u001b[38;5;124madjusted_time\u001b[39m\u001b[38;5;124m\"\u001b[39m)\n\u001b[1;32m      3\u001b[0m open_loop_trimmed\n",
      "Cell \u001b[0;32mIn[5], line 2\u001b[0m, in \u001b[0;36mtrim_series\u001b[0;34m(input_df, trim_end_cycles)\u001b[0m\n\u001b[1;32m      1\u001b[0m \u001b[38;5;28;01mdef\u001b[39;00m \u001b[38;5;21mtrim_series\u001b[39m(input_df, trim_end_cycles):\n\u001b[0;32m----> 2\u001b[0m     input_df[\u001b[38;5;124m\"\u001b[39m\u001b[38;5;124mtimestamp\u001b[39m\u001b[38;5;124m\"\u001b[39m] \u001b[38;5;241m=\u001b[39m \u001b[43minput_df\u001b[49m\u001b[43m[\u001b[49m\u001b[38;5;124;43m\"\u001b[39;49m\u001b[38;5;124;43mtimestamp\u001b[39;49m\u001b[38;5;124;43m\"\u001b[39;49m\u001b[43m]\u001b[49m\u001b[38;5;241m.\u001b[39mapply(\u001b[38;5;28mint\u001b[39m, base\u001b[38;5;241m=\u001b[39m\u001b[38;5;241m16\u001b[39m)\n\u001b[1;32m      3\u001b[0m     input_df[\u001b[38;5;124m\"\u001b[39m\u001b[38;5;124mreqs_done\u001b[39m\u001b[38;5;124m\"\u001b[39m] \u001b[38;5;241m=\u001b[39m input_df[\u001b[38;5;124m\"\u001b[39m\u001b[38;5;124mreqs_done\u001b[39m\u001b[38;5;124m\"\u001b[39m]\u001b[38;5;241m.\u001b[39mapply(\u001b[38;5;28mint\u001b[39m, base\u001b[38;5;241m=\u001b[39m\u001b[38;5;241m16\u001b[39m)\n\u001b[1;32m      4\u001b[0m     trimmed_data \u001b[38;5;241m=\u001b[39m input_df\u001b[38;5;241m.\u001b[39mloc[input_df[\u001b[38;5;124m\"\u001b[39m\u001b[38;5;124mreqs_done\u001b[39m\u001b[38;5;124m\"\u001b[39m] \u001b[38;5;241m!=\u001b[39m \u001b[38;5;241m0\u001b[39m]\n",
      "File \u001b[0;32m~/miniconda3/envs/beehive_cocotb/lib/python3.9/site-packages/pandas/core/frame.py:3893\u001b[0m, in \u001b[0;36mDataFrame.__getitem__\u001b[0;34m(self, key)\u001b[0m\n\u001b[1;32m   3891\u001b[0m \u001b[38;5;28;01mif\u001b[39;00m \u001b[38;5;28mself\u001b[39m\u001b[38;5;241m.\u001b[39mcolumns\u001b[38;5;241m.\u001b[39mnlevels \u001b[38;5;241m>\u001b[39m \u001b[38;5;241m1\u001b[39m:\n\u001b[1;32m   3892\u001b[0m     \u001b[38;5;28;01mreturn\u001b[39;00m \u001b[38;5;28mself\u001b[39m\u001b[38;5;241m.\u001b[39m_getitem_multilevel(key)\n\u001b[0;32m-> 3893\u001b[0m indexer \u001b[38;5;241m=\u001b[39m \u001b[38;5;28;43mself\u001b[39;49m\u001b[38;5;241;43m.\u001b[39;49m\u001b[43mcolumns\u001b[49m\u001b[38;5;241;43m.\u001b[39;49m\u001b[43mget_loc\u001b[49m\u001b[43m(\u001b[49m\u001b[43mkey\u001b[49m\u001b[43m)\u001b[49m\n\u001b[1;32m   3894\u001b[0m \u001b[38;5;28;01mif\u001b[39;00m is_integer(indexer):\n\u001b[1;32m   3895\u001b[0m     indexer \u001b[38;5;241m=\u001b[39m [indexer]\n",
      "File \u001b[0;32m~/miniconda3/envs/beehive_cocotb/lib/python3.9/site-packages/pandas/core/indexes/base.py:3797\u001b[0m, in \u001b[0;36mIndex.get_loc\u001b[0;34m(self, key)\u001b[0m\n\u001b[1;32m   3792\u001b[0m     \u001b[38;5;28;01mif\u001b[39;00m \u001b[38;5;28misinstance\u001b[39m(casted_key, \u001b[38;5;28mslice\u001b[39m) \u001b[38;5;129;01mor\u001b[39;00m (\n\u001b[1;32m   3793\u001b[0m         \u001b[38;5;28misinstance\u001b[39m(casted_key, abc\u001b[38;5;241m.\u001b[39mIterable)\n\u001b[1;32m   3794\u001b[0m         \u001b[38;5;129;01mand\u001b[39;00m \u001b[38;5;28many\u001b[39m(\u001b[38;5;28misinstance\u001b[39m(x, \u001b[38;5;28mslice\u001b[39m) \u001b[38;5;28;01mfor\u001b[39;00m x \u001b[38;5;129;01min\u001b[39;00m casted_key)\n\u001b[1;32m   3795\u001b[0m     ):\n\u001b[1;32m   3796\u001b[0m         \u001b[38;5;28;01mraise\u001b[39;00m InvalidIndexError(key)\n\u001b[0;32m-> 3797\u001b[0m     \u001b[38;5;28;01mraise\u001b[39;00m \u001b[38;5;167;01mKeyError\u001b[39;00m(key) \u001b[38;5;28;01mfrom\u001b[39;00m \u001b[38;5;21;01merr\u001b[39;00m\n\u001b[1;32m   3798\u001b[0m \u001b[38;5;28;01mexcept\u001b[39;00m \u001b[38;5;167;01mTypeError\u001b[39;00m:\n\u001b[1;32m   3799\u001b[0m     \u001b[38;5;66;03m# If we have a listlike key, _check_indexing_error will raise\u001b[39;00m\n\u001b[1;32m   3800\u001b[0m     \u001b[38;5;66;03m#  InvalidIndexError. Otherwise we fall through and re-raise\u001b[39;00m\n\u001b[1;32m   3801\u001b[0m     \u001b[38;5;66;03m#  the TypeError.\u001b[39;00m\n\u001b[1;32m   3802\u001b[0m     \u001b[38;5;28mself\u001b[39m\u001b[38;5;241m.\u001b[39m_check_indexing_error(key)\n",
      "\u001b[0;31mKeyError\u001b[0m: 'timestamp'"
     ]
    }
   ],
   "source": [
    "open_loop = pd.read_csv(\"open_loop_test_file.csv\")\n",
    "open_loop_trimmed = trim_series(open_loop, CYCLES_PER_SEC/4).sort_values(\"adjusted_time\")\n",
    "open_loop_trimmed\n"
   ]
  },
  {
   "cell_type": "code",
   "execution_count": null,
   "metadata": {},
   "outputs": [],
   "source": [
    "open_loop_trimmed = open_loop_trimmed.drop_duplicates()\n",
    "open_loop_trimmed = open_loop_trimmed[0:19000]"
   ]
  },
  {
   "cell_type": "code",
   "execution_count": 37,
   "metadata": {},
   "outputs": [],
   "source": [
    "req_log = pd.read_csv(\"req_log_test_file.csv\")\n",
    "req_log_trimmed = trim_series(req_log, 0).sort_values(\"adjusted_time\")"
   ]
  },
  {
   "cell_type": "code",
   "execution_count": 38,
   "metadata": {},
   "outputs": [],
   "source": [
    "big_req_log = pd.read_csv(\"req_log_test_file_10000.csv\")\n",
    "big_req_log_trimmed = trim_series(big_req_log, 0).sort_values(\"adjusted_time\")"
   ]
  },
  {
   "cell_type": "code",
   "execution_count": 39,
   "metadata": {},
   "outputs": [
    {
     "name": "stderr",
     "output_type": "stream",
     "text": [
      "/tmp/ipykernel_3293870/4154408532.py:1: FutureWarning: Calling int on a single element Series is deprecated and will raise a TypeError in the future. Use int(ser.iloc[0]) instead\n",
      "  int(big_req_log_trimmed[big_req_log_trimmed[\"reqs_done\"] == 10001][\"adjusted_time\"])-int(big_req_log_trimmed[big_req_log_trimmed[\"reqs_done\"] == 10000][\"adjusted_time\"])\n"
     ]
    },
    {
     "data": {
      "text/plain": [
       "111746"
      ]
     },
     "execution_count": 39,
     "metadata": {},
     "output_type": "execute_result"
    }
   ],
   "source": [
    "int(big_req_log_trimmed[big_req_log_trimmed[\"reqs_done\"] == 10001][\"adjusted_time\"])-int(big_req_log_trimmed[big_req_log_trimmed[\"reqs_done\"] == 10000][\"adjusted_time\"])"
   ]
  },
  {
   "cell_type": "code",
   "execution_count": 40,
   "metadata": {},
   "outputs": [
    {
     "data": {
      "text/plain": [
       "0.000530224"
      ]
     },
     "execution_count": 40,
     "metadata": {},
     "output_type": "execute_result"
    }
   ],
   "source": [
    "132556/CYCLES_PER_SEC"
   ]
  },
  {
   "cell_type": "code",
   "execution_count": 41,
   "metadata": {},
   "outputs": [
    {
     "data": {
      "text/html": [
       "<div>\n",
       "<style scoped>\n",
       "    .dataframe tbody tr th:only-of-type {\n",
       "        vertical-align: middle;\n",
       "    }\n",
       "\n",
       "    .dataframe tbody tr th {\n",
       "        vertical-align: top;\n",
       "    }\n",
       "\n",
       "    .dataframe thead th {\n",
       "        text-align: right;\n",
       "    }\n",
       "</style>\n",
       "<table border=\"1\" class=\"dataframe\">\n",
       "  <thead>\n",
       "    <tr style=\"text-align: right;\">\n",
       "      <th></th>\n",
       "      <th>timestamp</th>\n",
       "      <th>reqs_done</th>\n",
       "      <th>adjusted_time</th>\n",
       "    </tr>\n",
       "  </thead>\n",
       "  <tbody>\n",
       "    <tr>\n",
       "      <th>243</th>\n",
       "      <td>7802058649</td>\n",
       "      <td>500</td>\n",
       "      <td>11183375</td>\n",
       "    </tr>\n",
       "  </tbody>\n",
       "</table>\n",
       "</div>"
      ],
      "text/plain": [
       "      timestamp  reqs_done  adjusted_time\n",
       "243  7802058649        500       11183375"
      ]
     },
     "execution_count": 41,
     "metadata": {},
     "output_type": "execute_result"
    }
   ],
   "source": [
    "big_req_log_trimmed[big_req_log_trimmed[\"reqs_done\"] == 500]"
   ]
  },
  {
   "cell_type": "code",
   "execution_count": 42,
   "metadata": {},
   "outputs": [],
   "source": [
    "first_client = req_log_trimmed[20:743]\n"
   ]
  },
  {
   "cell_type": "code",
   "execution_count": 43,
   "metadata": {},
   "outputs": [],
   "source": [
    "def calc_gaps(input_dataframe):\n",
    "    gaps = []\n",
    "    for i in range(1, len(input_dataframe)):\n",
    "        gap  = input_dataframe.iloc[i][\"adjusted_time\"] - input_dataframe.iloc[i-1][\"adjusted_time\"]\n",
    "        gaps.append(gap)\n",
    "    return gaps"
   ]
  },
  {
   "cell_type": "code",
   "execution_count": 44,
   "metadata": {},
   "outputs": [],
   "source": [
    "first_client = big_req_log_trimmed[200:10000]"
   ]
  },
  {
   "cell_type": "code",
   "execution_count": 45,
   "metadata": {},
   "outputs": [],
   "source": [
    "gaps = calc_gaps(first_client)"
   ]
  },
  {
   "cell_type": "code",
   "execution_count": 46,
   "metadata": {},
   "outputs": [
    {
     "name": "stdout",
     "output_type": "stream",
     "text": [
      "22241.131339932646 1508.7679402130018\n"
     ]
    }
   ],
   "source": [
    "mean = np.mean(gaps)\n",
    "std_dev = np.std(gaps)\n",
    "print(mean, std_dev)"
   ]
  },
  {
   "cell_type": "code",
   "execution_count": 47,
   "metadata": {},
   "outputs": [
    {
     "data": {
      "text/plain": [
       "0.0001"
      ]
     },
     "execution_count": 47,
     "metadata": {},
     "output_type": "execute_result"
    }
   ],
   "source": [
    "25000/CYCLES_PER_SEC"
   ]
  },
  {
   "cell_type": "code",
   "execution_count": 48,
   "metadata": {},
   "outputs": [
    {
     "data": {
      "text/plain": [
       "<Axes: xlabel='adjusted_time'>"
      ]
     },
     "execution_count": 48,
     "metadata": {},
     "output_type": "execute_result"
    },
    {
     "data": {
      "image/png": "[encoded data removed]",
      "text/plain": [
       "<Figure size 640x480 with 1 Axes>"
      ]
     },
     "metadata": {},
     "output_type": "display_data"
    }
   ],
   "source": [
    "big_req_log_trimmed[243:].plot(x=\"adjusted_time\", y=\"reqs_done\", marker=\"o\")"
   ]
  },
  {
   "cell_type": "code",
   "execution_count": 49,
   "metadata": {},
   "outputs": [],
   "source": [
    "period_seconds = 49999/CYCLES_PER_SEC"
   ]
  },
  {
   "cell_type": "code",
   "execution_count": 50,
   "metadata": {},
   "outputs": [
    {
     "data": {
      "text/plain": [
       "505010.100202004"
      ]
     },
     "execution_count": 50,
     "metadata": {},
     "output_type": "execute_result"
    }
   ],
   "source": [
    "101/period_seconds"
   ]
  },
  {
   "cell_type": "code",
   "execution_count": 51,
   "metadata": {},
   "outputs": [],
   "source": [
    "def collect_intervals(input_dataframe, interval_cycles):\n",
    "    intervals = []\n",
    "    next_timestamp = input_dataframe.iloc[0][\"adjusted_time\"] + interval_cycles\n",
    "    interval_start_reqs = input_dataframe.iloc[0][\"reqs_done\"]\n",
    "    start_timestamp = input_dataframe.iloc[0][\"adjusted_time\"]\n",
    "    i = 0\n",
    "    migration_happened = False\n",
    "    for index, row in input_dataframe.iterrows():\n",
    "        if row[\"adjusted_time\"] >= next_timestamp or ((not migration_happened) and (row[\"reqs_done\"] == 1000)):\n",
    "            if (row[\"reqs_done\"] == 1000):\n",
    "                migration_happened = True\n",
    "            adjusted_time = row[\"adjusted_time\"]\n",
    "            reqs_done = row[\"reqs_done\"] - interval_start_reqs\n",
    "            period_cycles = row[\"adjusted_time\"] - start_timestamp\n",
    "            period_seconds = period_cycles/CYCLES_PER_SEC\n",
    "            reqs_per_sec = reqs_done/period_seconds\n",
    "            #if (period_cycles != interval_cycles):\n",
    "            #    print(i, period_cycles, reqs_per_sec)\n",
    "            new_entry = {\"time\": row[\"adjusted_time\"]/CYCLES_PER_SEC, \"reqs_per_sec\": reqs_per_sec}\n",
    "            intervals.append(new_entry)\n",
    "\n",
    "            start_timestamp = row[\"adjusted_time\"]\n",
    "            interval_start_reqs = row[\"reqs_done\"]\n",
    "            next_timestamp = row[\"adjusted_time\"] + interval_cycles\n",
    "        i += 1\n",
    "    return pd.DataFrame(intervals)"
   ]
  },
  {
   "cell_type": "code",
   "execution_count": 52,
   "metadata": {},
   "outputs": [
    {
     "data": {
      "text/plain": [
       "3.6e-06"
      ]
     },
     "execution_count": 52,
     "metadata": {},
     "output_type": "execute_result"
    }
   ],
   "source": [
    "900/CYCLES_PER_SEC"
   ]
  },
  {
   "cell_type": "code",
   "execution_count": 53,
   "metadata": {},
   "outputs": [],
   "source": [
    "def collect_req_log_intervals_fixed(input_dataframe, interval_cycles):\n",
    "    intervals = []\n",
    "    start_time = input_dataframe.iloc[0][\"adjusted_time\"] - 300\n",
    "    process_df = input_dataframe\n",
    "    end_time = process_df.iloc[-1][\"adjusted_time\"]\n",
    "    period_seconds = interval_cycles/CYCLES_PER_SEC\n",
    "    start_time = 0\n",
    "\n",
    "    while (start_time <= end_time):\n",
    "        # find all the entries between the start and the end of the interval\n",
    "        reqs = process_df.loc[process_df.adjusted_time.ge(start_time) & process_df.adjusted_time.le(start_time + interval_cycles)]\n",
    "\n",
    "        if len(reqs) != 0:\n",
    "            # minus one, because probably the period starts before the first thing\n",
    "            start_reqs = reqs.iloc[0][\"reqs_done\"]-1\n",
    "            end_reqs = reqs.iloc[-1][\"reqs_done\"]\n",
    "            reqs_period = end_reqs - start_reqs\n",
    "            reqs_per_sec = reqs_period/period_seconds\n",
    "            new_entry = {\"time\": (start_time + interval_cycles)/CYCLES_PER_SEC, \"reqs_per_sec\": reqs_per_sec, \"num_reqs\": reqs_period}\n",
    "            intervals.append(new_entry)\n",
    "        else:\n",
    "            new_entry = {\"time\": (start_time + interval_cycles)/CYCLES_PER_SEC, \"reqs_per_sec\": 0, \"num_reqs\": 0}\n",
    "            intervals.append(new_entry)\n",
    "\n",
    "        start_time = start_time + interval_cycles\n",
    "    return pd.DataFrame(intervals)\n"
   ]
  },
  {
   "cell_type": "code",
   "execution_count": 54,
   "metadata": {},
   "outputs": [],
   "source": [
    "def collect_req_log_intervals_variable(input_dataframe):\n",
    "    intervals = []\n",
    "    for i in range(1, len(input_dataframe)-1):\n",
    "        next_row = input_dataframe.iloc[i+1]\n",
    "        prev_row = input_dataframe.iloc[i-1]\n",
    "        curr_row = input_dataframe.iloc[i]\n",
    "        reqs_period = next_row[\"reqs_done\"] - prev_row[\"reqs_done\"]\n",
    "        period_cycles = next_row[\"adjusted_time\"] - prev_row[\"adjusted_time\"]\n",
    "        period_seconds = period_cycles/CYCLES_PER_SEC\n",
    "\n",
    "        reqs_per_sec = reqs_period/period_seconds\n",
    "        new_entry = {\"time\": curr_row[\"adjusted_time\"]/CYCLES_PER_SEC, \"reqs_per_sec\": reqs_per_sec}\n",
    "        intervals.append(new_entry)\n",
    "    return pd.DataFrame(intervals) "
   ]
  },
  {
   "cell_type": "code",
   "execution_count": 55,
   "metadata": {},
   "outputs": [],
   "source": [
    "def collect_req_log_intervals_avg(input_dataframe):\n",
    "    intervals = []\n",
    "    for i in range(1, len(input_dataframe)):\n",
    "        prev_row = input_dataframe.iloc[i-1]\n",
    "        curr_row = input_dataframe.iloc[i]\n",
    "        reqs_period = curr_row[\"reqs_done\"] - prev_row[\"reqs_done\"]\n",
    "        period_cycles = curr_row[\"adjusted_time\"] - prev_row[\"adjusted_time\"]\n",
    "        period_seconds = period_cycles/CYCLES_PER_SEC\n",
    "        reqs_per_sec = reqs_period/period_seconds\n",
    "\n",
    "        record_time = prev_row[\"adjusted_time\"] + (period_cycles/2)\n",
    "        new_entry = {\"time\": record_time/CYCLES_PER_SEC, \"reqs_per_sec\": reqs_per_sec}\n",
    "        intervals.append(new_entry)\n",
    "    return pd.DataFrame(intervals)"
   ]
  },
  {
   "cell_type": "code",
   "execution_count": 56,
   "metadata": {},
   "outputs": [],
   "source": [
    "def adjust_time(input_dataframe):\n",
    "    start = input_dataframe.iloc[0][\"time\"]\n",
    "\n",
    "    adjusted = input_dataframe.assign(time=lambda row: row[\"time\"]-start)\n",
    "    return adjusted"
   ]
  },
  {
   "cell_type": "code",
   "execution_count": 57,
   "metadata": {},
   "outputs": [
    {
     "data": {
      "text/plain": [
       "1"
      ]
     },
     "execution_count": 57,
     "metadata": {},
     "output_type": "execute_result"
    }
   ],
   "source": [
    "len(req_log_trimmed.loc[req_log_trimmed.adjusted_time.ge(90000) & req_log_trimmed.adjusted_time.le(105000)])"
   ]
  },
  {
   "cell_type": "code",
   "execution_count": 58,
   "metadata": {},
   "outputs": [
    {
     "data": {
      "text/plain": [
       "timestamp        7753577499\n",
       "reqs_done               115\n",
       "adjusted_time       3782500\n",
       "Name: 759138, dtype: int64"
      ]
     },
     "execution_count": 58,
     "metadata": {},
     "output_type": "execute_result"
    }
   ],
   "source": [
    "interval_df = collect_intervals(trimmed_data, 75000)\n",
    "trimmed_data.iloc[745]"
   ]
  },
  {
   "cell_type": "code",
   "execution_count": 59,
   "metadata": {},
   "outputs": [
    {
     "ename": "NameError",
     "evalue": "name 'open_loop_trimmed' is not defined",
     "output_type": "error",
     "traceback": [
      "\u001b[0;31m---------------------------------------------------------------------------\u001b[0m",
      "\u001b[0;31mNameError\u001b[0m                                 Traceback (most recent call last)",
      "Cell \u001b[0;32mIn[59], line 1\u001b[0m\n\u001b[0;32m----> 1\u001b[0m open_interval_df \u001b[38;5;241m=\u001b[39m collect_req_log_intervals_fixed(\u001b[43mopen_loop_trimmed\u001b[49m, \u001b[38;5;241m49999\u001b[39m)\n\u001b[1;32m      2\u001b[0m open_interval_df[\u001b[38;5;241m200\u001b[39m:\u001b[38;5;241m300\u001b[39m]\n",
      "\u001b[0;31mNameError\u001b[0m: name 'open_loop_trimmed' is not defined"
     ]
    }
   ],
   "source": [
    "open_interval_df = collect_req_log_intervals_fixed(open_loop_trimmed, 49999)\n",
    "open_interval_df[200:300]"
   ]
  },
  {
   "cell_type": "code",
   "execution_count": null,
   "metadata": {},
   "outputs": [],
   "source": [
    "req_interval_df = collect_req_log_intervals_fixed(req_log_trimmed, 24999)\n",
    "req_interval_df[600:800]"
   ]
  },
  {
   "cell_type": "code",
   "execution_count": null,
   "metadata": {},
   "outputs": [],
   "source": [
    "big_req_interval_df = collect_req_log_intervals_variable(big_req_log_trimmed[243:])"
   ]
  },
  {
   "cell_type": "code",
   "execution_count": null,
   "metadata": {},
   "outputs": [],
   "source": [
    "req_interval_df.loc[req_interval_df[\"num_reqs\"] == 2]"
   ]
  },
  {
   "cell_type": "code",
   "execution_count": null,
   "metadata": {},
   "outputs": [],
   "source": [
    "req_log_trimmed.iloc[20]"
   ]
  },
  {
   "cell_type": "code",
   "execution_count": 60,
   "metadata": {},
   "outputs": [],
   "source": [
    "req_interval_der = collect_req_log_intervals_variable(req_log_trimmed)"
   ]
  },
  {
   "cell_type": "code",
   "execution_count": 61,
   "metadata": {},
   "outputs": [],
   "source": [
    "req_interval_der_2 = collect_req_log_intervals_variable(req_log_trimmed)"
   ]
  },
  {
   "cell_type": "code",
   "execution_count": 62,
   "metadata": {},
   "outputs": [],
   "source": [
    "def plot_timeseries(input_df, reqs_field):\n",
    "    fig, ax = plt.subplots()\n",
    "    input_df.plot(x=\"time\", y=reqs_field, ax=ax)\n",
    "\n",
    "    y_max = input_df[reqs_field].max() * 1.10\n",
    "    x_max = input_df.iloc[-1][\"time\"]\n",
    "    \n",
    "    ax.set_ylim(0, y_max)\n",
    "    ax.set_xlim(0, x_max)\n",
    "\n",
    "    ax.set_xlabel(\"Time (s)\", fontsize=16)\n",
    "    ax.set_ylabel(\"Throughput (ops/sec)\", fontsize=16)\n",
    "    plt.xticks(fontsize=14)\n",
    "    plt.yticks(fontsize=14)\n",
    "\n",
    "    plt.draw()\n",
    "\n",
    "    return fig, ax"
   ]
  },
  {
   "cell_type": "code",
   "execution_count": 65,
   "metadata": {},
   "outputs": [
    {
     "ename": "NameError",
     "evalue": "name 'taskset_intervals' is not defined",
     "output_type": "error",
     "traceback": [
      "\u001b[0;31m---------------------------------------------------------------------------\u001b[0m",
      "\u001b[0;31mNameError\u001b[0m                                 Traceback (most recent call last)",
      "Cell \u001b[0;32mIn[65], line 1\u001b[0m\n\u001b[0;32m----> 1\u001b[0m plot_timeseries(\u001b[43mtaskset_intervals\u001b[49m[\u001b[38;5;241m200\u001b[39m:\u001b[38;5;241m1000\u001b[39m], \u001b[38;5;124m\"\u001b[39m\u001b[38;5;124mreqs_per_sec\u001b[39m\u001b[38;5;124m\"\u001b[39m)\n",
      "\u001b[0;31mNameError\u001b[0m: name 'taskset_intervals' is not defined"
     ]
    }
   ],
   "source": [
    "plot_timeseries(taskset_intervals[200:1000], \"reqs_per_sec\")"
   ]
  },
  {
   "cell_type": "code",
   "execution_count": 66,
   "metadata": {},
   "outputs": [
    {
     "ename": "NameError",
     "evalue": "name 'req_interval_df' is not defined",
     "output_type": "error",
     "traceback": [
      "\u001b[0;31m---------------------------------------------------------------------------\u001b[0m",
      "\u001b[0;31mNameError\u001b[0m                                 Traceback (most recent call last)",
      "Cell \u001b[0;32mIn[66], line 2\u001b[0m\n\u001b[1;32m      1\u001b[0m \u001b[38;5;66;03m#req_interval_df = req_interval_df.assign(avg_reqs_per_sec=req_interval_df[\"reqs_per_sec\"].rolling(1, center=True).mean())\u001b[39;00m\n\u001b[0;32m----> 2\u001b[0m adjusted \u001b[38;5;241m=\u001b[39m adjust_time(\u001b[43mreq_interval_df\u001b[49m[\u001b[38;5;241m400\u001b[39m:\u001b[38;5;241m1800\u001b[39m])\n\u001b[1;32m      3\u001b[0m adjusted_avg \u001b[38;5;241m=\u001b[39m adjusted\u001b[38;5;241m.\u001b[39massign(avg_reqs_per_sec\u001b[38;5;241m=\u001b[39madjusted[\u001b[38;5;124m\"\u001b[39m\u001b[38;5;124mreqs_per_sec\u001b[39m\u001b[38;5;124m\"\u001b[39m]\u001b[38;5;241m.\u001b[39mrolling(\u001b[38;5;241m3\u001b[39m, center\u001b[38;5;241m=\u001b[39m\u001b[38;5;28;01mTrue\u001b[39;00m)\u001b[38;5;241m.\u001b[39mmean())\n\u001b[1;32m      4\u001b[0m plot_timeseries(adjusted_avg, \u001b[38;5;124m\"\u001b[39m\u001b[38;5;124mreqs_per_sec\u001b[39m\u001b[38;5;124m\"\u001b[39m)\n",
      "\u001b[0;31mNameError\u001b[0m: name 'req_interval_df' is not defined"
     ]
    }
   ],
   "source": [
    "#req_interval_df = req_interval_df.assign(avg_reqs_per_sec=req_interval_df[\"reqs_per_sec\"].rolling(1, center=True).mean())\n",
    "adjusted = adjust_time(req_interval_df[400:1800])\n",
    "adjusted_avg = adjusted.assign(avg_reqs_per_sec=adjusted[\"reqs_per_sec\"].rolling(3, center=True).mean())\n",
    "plot_timeseries(adjusted_avg, \"reqs_per_sec\")\n"
   ]
  },
  {
   "cell_type": "code",
   "execution_count": 67,
   "metadata": {},
   "outputs": [
    {
     "data": {
      "text/plain": [
       "time                0.038290\n",
       "reqs_per_sec    10239.606799\n",
       "Name: 50, dtype: float64"
      ]
     },
     "execution_count": 67,
     "metadata": {},
     "output_type": "execute_result"
    }
   ],
   "source": [
    "req_interval_der.iloc[50]"
   ]
  },
  {
   "cell_type": "code",
   "execution_count": 73,
   "metadata": {},
   "outputs": [
    {
     "data": {
      "image/png": "[encoded data removed]",
      "text/plain": [
       "<Figure size 800x400 with 1 Axes>"
      ]
     },
     "metadata": {},
     "output_type": "display_data"
    }
   ],
   "source": [
    "adjusted_der = adjust_time(req_interval_der[20:1400])\n",
    "tmp_fig, tmp_ax = plot_timeseries(adjusted_der, \"reqs_per_sec\")\n",
    "legend = tmp_ax.legend()\n",
    "legend.remove()\n",
    "tmp_fig.set_size_inches(8, 4)\n",
    "save_fig(\"migration_timeseries.pdf\", tmp_fig, OUTPUT_DIR)"
   ]
  },
  {
   "cell_type": "code",
   "execution_count": 69,
   "metadata": {},
   "outputs": [
    {
     "ename": "NameError",
     "evalue": "name 'big_req_interval_df' is not defined",
     "output_type": "error",
     "traceback": [
      "\u001b[0;31m---------------------------------------------------------------------------\u001b[0m",
      "\u001b[0;31mNameError\u001b[0m                                 Traceback (most recent call last)",
      "Cell \u001b[0;32mIn[69], line 1\u001b[0m\n\u001b[0;32m----> 1\u001b[0m tmp_fig, tmp_ax \u001b[38;5;241m=\u001b[39m plot_timeseries(\u001b[43mbig_req_interval_df\u001b[49m, \u001b[38;5;124m\"\u001b[39m\u001b[38;5;124mreqs_per_sec\u001b[39m\u001b[38;5;124m\"\u001b[39m)\n",
      "\u001b[0;31mNameError\u001b[0m: name 'big_req_interval_df' is not defined"
     ]
    }
   ],
   "source": [
    "tmp_fig, tmp_ax = plot_timeseries(big_req_interval_df, \"reqs_per_sec\")"
   ]
  },
  {
   "cell_type": "code",
   "execution_count": 70,
   "metadata": {},
   "outputs": [
    {
     "data": {
      "text/plain": [
       "(<Figure size 640x480 with 1 Axes>,\n",
       " <Axes: xlabel='Time (s)', ylabel='Throughput (ops/sec)'>)"
      ]
     },
     "execution_count": 70,
     "metadata": {},
     "output_type": "execute_result"
    },
    {
     "data": {
      "image/png": "[encoded data removed]",
      "text/plain": [
       "<Figure size 640x480 with 1 Axes>"
      ]
     },
     "metadata": {},
     "output_type": "display_data"
    }
   ],
   "source": [
    "plot_timeseries(req_interval_der_2, \"reqs_per_sec\")"
   ]
  },
  {
   "cell_type": "code",
   "execution_count": 31,
   "metadata": {},
   "outputs": [
    {
     "ename": "NameError",
     "evalue": "name 'plot_timeseries' is not defined",
     "output_type": "error",
     "traceback": [
      "\u001b[0;31m---------------------------------------------------------------------------\u001b[0m",
      "\u001b[0;31mNameError\u001b[0m                                 Traceback (most recent call last)",
      "Cell \u001b[0;32mIn[31], line 1\u001b[0m\n\u001b[0;32m----> 1\u001b[0m \u001b[43mplot_timeseries\u001b[49m(open_interval_df, \u001b[38;5;124m\"\u001b[39m\u001b[38;5;124mreqs_per_sec\u001b[39m\u001b[38;5;124m\"\u001b[39m)\n\u001b[1;32m      2\u001b[0m \u001b[38;5;28mprint\u001b[39m(open_interval_df[\u001b[38;5;241m100\u001b[39m:\u001b[38;5;241m800\u001b[39m]\u001b[38;5;241m.\u001b[39mloc[open_interval_df[\u001b[38;5;241m100\u001b[39m:\u001b[38;5;241m800\u001b[39m][\u001b[38;5;124m\"\u001b[39m\u001b[38;5;124mreqs_per_sec\u001b[39m\u001b[38;5;124m\"\u001b[39m] \u001b[38;5;241m==\u001b[39m \u001b[38;5;241m0\u001b[39m])\n",
      "\u001b[0;31mNameError\u001b[0m: name 'plot_timeseries' is not defined"
     ]
    }
   ],
   "source": [
    "plot_timeseries(open_interval_df, \"reqs_per_sec\")\n",
    "print(open_interval_df[100:800].loc[open_interval_df[100:800][\"reqs_per_sec\"] == 0])"
   ]
  },
  {
   "cell_type": "code",
   "execution_count": 32,
   "metadata": {},
   "outputs": [
    {
     "name": "stdout",
     "output_type": "stream",
     "text": [
      "        time  reqs_per_sec\n",
      "172  0.04349           0.0\n",
      "173  0.04379           0.0\n",
      "342  0.14291           0.0\n",
      "343  0.14321           0.0\n",
      "344  0.14351           0.0\n",
      "..       ...           ...\n",
      "495  0.23535           0.0\n",
      "496  0.23565           0.0\n",
      "497  0.23595           0.0\n",
      "498  0.23625           0.0\n",
      "499  0.23655           0.0\n",
      "\n",
      "[160 rows x 2 columns]\n"
     ]
    },
    {
     "ename": "NameError",
     "evalue": "name 'plot_timeseries' is not defined",
     "output_type": "error",
     "traceback": [
      "\u001b[0;31m---------------------------------------------------------------------------\u001b[0m",
      "\u001b[0;31mNameError\u001b[0m                                 Traceback (most recent call last)",
      "Cell \u001b[0;32mIn[32], line 7\u001b[0m\n\u001b[1;32m      4\u001b[0m plot_df \u001b[38;5;241m=\u001b[39m plot_df\u001b[38;5;241m.\u001b[39massign(time\u001b[38;5;241m=\u001b[39m\u001b[38;5;28;01mlambda\u001b[39;00m row: row[\u001b[38;5;124m\"\u001b[39m\u001b[38;5;124mtime\u001b[39m\u001b[38;5;124m\"\u001b[39m] \u001b[38;5;241m-\u001b[39m start_time)\n\u001b[1;32m      5\u001b[0m \u001b[38;5;28mprint\u001b[39m(plot_df\u001b[38;5;241m.\u001b[39mloc[plot_df[\u001b[38;5;124m\"\u001b[39m\u001b[38;5;124mreqs_per_sec\u001b[39m\u001b[38;5;124m\"\u001b[39m] \u001b[38;5;241m==\u001b[39m \u001b[38;5;241m0\u001b[39m])\n\u001b[0;32m----> 7\u001b[0m tmp_fig, tmp_ax \u001b[38;5;241m=\u001b[39m \u001b[43mplot_timeseries\u001b[49m(plot_df, \u001b[38;5;124m\"\u001b[39m\u001b[38;5;124mreqs_per_sec\u001b[39m\u001b[38;5;124m\"\u001b[39m)\n\u001b[1;32m      8\u001b[0m save_fig(\u001b[38;5;124m\"\u001b[39m\u001b[38;5;124mmigration_timeseries.pdf\u001b[39m\u001b[38;5;124m\"\u001b[39m, tmp_fig, OUTPUT_DIR)\n",
      "\u001b[0;31mNameError\u001b[0m: name 'plot_timeseries' is not defined"
     ]
    }
   ],
   "source": [
    "plot_df = interval_df[100:500]\n",
    "start_time = plot_df.iloc[0][\"time\"]\n",
    "\n",
    "plot_df = plot_df.assign(time=lambda row: row[\"time\"] - start_time)\n",
    "print(plot_df.loc[plot_df[\"reqs_per_sec\"] == 0])\n",
    "\n",
    "tmp_fig, tmp_ax = plot_timeseries(plot_df, \"reqs_per_sec\")\n",
    "save_fig(\"migration_timeseries.pdf\", tmp_fig, OUTPUT_DIR)\n"
   ]
  },
  {
   "cell_type": "code",
   "execution_count": 33,
   "metadata": {},
   "outputs": [],
   "source": [
    "\n",
    "plotted = interval_df[100:500]\n",
    "plotted = plotted.assign(avg_reqs_per_sec=plotted[\"reqs_per_sec\"].rolling(3, center=True).mean())"
   ]
  },
  {
   "cell_type": "code",
   "execution_count": 34,
   "metadata": {},
   "outputs": [
    {
     "ename": "NameError",
     "evalue": "name 'plot_timeseries' is not defined",
     "output_type": "error",
     "traceback": [
      "\u001b[0;31m---------------------------------------------------------------------------\u001b[0m",
      "\u001b[0;31mNameError\u001b[0m                                 Traceback (most recent call last)",
      "Cell \u001b[0;32mIn[34], line 4\u001b[0m\n\u001b[1;32m      2\u001b[0m start_time \u001b[38;5;241m=\u001b[39m avg_plotted\u001b[38;5;241m.\u001b[39miloc[\u001b[38;5;241m0\u001b[39m][\u001b[38;5;124m\"\u001b[39m\u001b[38;5;124mtime\u001b[39m\u001b[38;5;124m\"\u001b[39m]\n\u001b[1;32m      3\u001b[0m avg_time_adjust \u001b[38;5;241m=\u001b[39m avg_plotted\u001b[38;5;241m.\u001b[39massign(time\u001b[38;5;241m=\u001b[39m\u001b[38;5;28;01mlambda\u001b[39;00m row: row[\u001b[38;5;124m\"\u001b[39m\u001b[38;5;124mtime\u001b[39m\u001b[38;5;124m\"\u001b[39m] \u001b[38;5;241m-\u001b[39m start_time)\n\u001b[0;32m----> 4\u001b[0m tmp_fig, tmp_ax \u001b[38;5;241m=\u001b[39m \u001b[43mplot_timeseries\u001b[49m(avg_time_adjust, \u001b[38;5;124m\"\u001b[39m\u001b[38;5;124mavg_reqs_per_sec\u001b[39m\u001b[38;5;124m\"\u001b[39m)\n\u001b[1;32m      5\u001b[0m save_fig(\u001b[38;5;124m\"\u001b[39m\u001b[38;5;124mmigration_timeseries.pdf\u001b[39m\u001b[38;5;124m\"\u001b[39m, tmp_fig, OUTPUT_DIR)\n",
      "\u001b[0;31mNameError\u001b[0m: name 'plot_timeseries' is not defined"
     ]
    }
   ],
   "source": [
    "avg_plotted = plotted[2:-2]\n",
    "start_time = avg_plotted.iloc[0][\"time\"]\n",
    "avg_time_adjust = avg_plotted.assign(time=lambda row: row[\"time\"] - start_time)\n",
    "tmp_fig, tmp_ax = plot_timeseries(avg_time_adjust, \"avg_reqs_per_sec\")\n",
    "save_fig(\"migration_timeseries.pdf\", tmp_fig, OUTPUT_DIR)"
   ]
  },
  {
   "cell_type": "code",
   "execution_count": 35,
   "metadata": {},
   "outputs": [
    {
     "data": {
      "text/html": [
       "<div>\n",
       "<style scoped>\n",
       "    .dataframe tbody tr th:only-of-type {\n",
       "        vertical-align: middle;\n",
       "    }\n",
       "\n",
       "    .dataframe tbody tr th {\n",
       "        vertical-align: top;\n",
       "    }\n",
       "\n",
       "    .dataframe thead th {\n",
       "        text-align: right;\n",
       "    }\n",
       "</style>\n",
       "<table border=\"1\" class=\"dataframe\">\n",
       "  <thead>\n",
       "    <tr style=\"text-align: right;\">\n",
       "      <th></th>\n",
       "      <th>time</th>\n",
       "      <th>reqs_per_sec</th>\n",
       "      <th>avg_reqs_per_sec</th>\n",
       "    </tr>\n",
       "  </thead>\n",
       "  <tbody>\n",
       "    <tr>\n",
       "      <th>102</th>\n",
       "      <td>0.05957</td>\n",
       "      <td>10000.000000</td>\n",
       "      <td>10094.562648</td>\n",
       "    </tr>\n",
       "    <tr>\n",
       "      <th>103</th>\n",
       "      <td>0.06239</td>\n",
       "      <td>10283.687943</td>\n",
       "      <td>10094.562648</td>\n",
       "    </tr>\n",
       "    <tr>\n",
       "      <th>104</th>\n",
       "      <td>0.06269</td>\n",
       "      <td>10000.000000</td>\n",
       "      <td>10094.562648</td>\n",
       "    </tr>\n",
       "    <tr>\n",
       "      <th>105</th>\n",
       "      <td>0.06299</td>\n",
       "      <td>10000.000000</td>\n",
       "      <td>10000.000000</td>\n",
       "    </tr>\n",
       "    <tr>\n",
       "      <th>106</th>\n",
       "      <td>0.06329</td>\n",
       "      <td>10000.000000</td>\n",
       "      <td>10000.000000</td>\n",
       "    </tr>\n",
       "    <tr>\n",
       "      <th>...</th>\n",
       "      <td>...</td>\n",
       "      <td>...</td>\n",
       "      <td>...</td>\n",
       "    </tr>\n",
       "    <tr>\n",
       "      <th>493</th>\n",
       "      <td>0.29121</td>\n",
       "      <td>0.000000</td>\n",
       "      <td>0.000000</td>\n",
       "    </tr>\n",
       "    <tr>\n",
       "      <th>494</th>\n",
       "      <td>0.29151</td>\n",
       "      <td>0.000000</td>\n",
       "      <td>0.000000</td>\n",
       "    </tr>\n",
       "    <tr>\n",
       "      <th>495</th>\n",
       "      <td>0.29432</td>\n",
       "      <td>0.000000</td>\n",
       "      <td>0.000000</td>\n",
       "    </tr>\n",
       "    <tr>\n",
       "      <th>496</th>\n",
       "      <td>0.29462</td>\n",
       "      <td>0.000000</td>\n",
       "      <td>0.000000</td>\n",
       "    </tr>\n",
       "    <tr>\n",
       "      <th>497</th>\n",
       "      <td>0.29492</td>\n",
       "      <td>0.000000</td>\n",
       "      <td>0.000000</td>\n",
       "    </tr>\n",
       "  </tbody>\n",
       "</table>\n",
       "<p>396 rows × 3 columns</p>\n",
       "</div>"
      ],
      "text/plain": [
       "        time  reqs_per_sec  avg_reqs_per_sec\n",
       "102  0.05957  10000.000000      10094.562648\n",
       "103  0.06239  10283.687943      10094.562648\n",
       "104  0.06269  10000.000000      10094.562648\n",
       "105  0.06299  10000.000000      10000.000000\n",
       "106  0.06329  10000.000000      10000.000000\n",
       "..       ...           ...               ...\n",
       "493  0.29121      0.000000          0.000000\n",
       "494  0.29151      0.000000          0.000000\n",
       "495  0.29432      0.000000          0.000000\n",
       "496  0.29462      0.000000          0.000000\n",
       "497  0.29492      0.000000          0.000000\n",
       "\n",
       "[396 rows x 3 columns]"
      ]
     },
     "execution_count": 35,
     "metadata": {},
     "output_type": "execute_result"
    }
   ],
   "source": [
    "avg_plotted"
   ]
  },
  {
   "cell_type": "code",
   "execution_count": null,
   "metadata": {},
   "outputs": [],
   "source": []
  }
 ],
 "metadata": {
  "kernelspec": {
   "display_name": "Python 3 (ipykernel)",
   "language": "python",
   "name": "python3"
  },
  "language_info": {
   "codemirror_mode": {
    "name": "ipython",
    "version": 3
   },
   "file_extension": ".py",
   "mimetype": "text/x-python",
   "name": "python",
   "nbconvert_exporter": "python",
   "pygments_lexer": "ipython3",
   "version": "3.9.18"
  },
  "vscode": {
   "interpreter": {
    "hash": "37e4bb39bbe0ca4001e347e8b91e0b0daeef423b66a1e961ebd6efa517796252"
   }
  }
 },
 "nbformat": 4,
 "nbformat_minor": 4
}
