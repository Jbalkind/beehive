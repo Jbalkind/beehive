{
 "cells": [
  {
   "cell_type": "markdown",
   "metadata": {},
   "source": [
    "# RS Encode Scaling Results"
   ]
  },
  {
   "cell_type": "code",
   "execution_count": 252,
   "metadata": {},
   "outputs": [],
   "source": [
    "import numpy as np\n",
    "import pandas as pd\n",
    "import matplotlib.pyplot as plt\n",
    "import matplotlib.colors as mcolors\n",
    "from palettable.cubehelix import Cubehelix\n",
    "import seaborn as sns\n",
    "import math"
   ]
  },
  {
   "cell_type": "code",
   "execution_count": 254,
   "metadata": {},
   "outputs": [
    {
     "data": {
      "image/png": "[encoded data removed]",
      "text/plain": [
       "<Figure size 500x100 with 1 Axes>"
      ]
     },
     "metadata": {},
     "output_type": "display_data"
    }
   ],
   "source": [
    "OUTPUT_DIR=\"rs_encode_scaling/\"\n",
    "colors = sns.cubehelix_palette(n_colors=10, start=5, rot=4, hue=3, light=0.4, dark=.8)\n",
    "colors = np.array(colors)[[0,3,4,5,6]]\n",
    "sns.palplot(colors)"
   ]
  },
  {
   "cell_type": "code",
   "execution_count": 401,
   "metadata": {},
   "outputs": [],
   "source": [
    "def save_fig(file_name, figure, output_dir):\n",
    "    figure.patch.set_facecolor(\"white\")\n",
    "    figure.savefig(output_dir + file_name, bbox_inches=\"tight\")"
   ]
  },
  {
   "cell_type": "markdown",
   "metadata": {},
   "source": [
    "# New results"
   ]
  },
  {
   "cell_type": "code",
   "execution_count": 339,
   "metadata": {},
   "outputs": [],
   "source": [
    "def read_in_results(num_instances, platform, results_root):\n",
    "    base_result_path = f\"{results_root}/{platform}_{num_instances}\"\n",
    "    dfs = []\n",
    "    \n",
    "    for i in range(0, num_instances):\n",
    "        if platform == \"cpu\":\n",
    "            base_port = 50000\n",
    "            curr_df = pd.read_csv(f\"{base_result_path}/server_{base_port+i}.out\")\n",
    "            curr_df[\"timestamp_us\"] = curr_df[\"timestamp_ms\"]*1000\n",
    "            curr_df.drop(\"timestamp_ms\", axis=1, inplace=True)\n",
    "            curr_df = trim_to_time(curr_df, 0.3)\n",
    "        else:\n",
    "            base_port = 60000\n",
    "            curr_df = pd.read_csv(f\"{base_result_path}/bw_log_{base_port + i}.csv\")\n",
    "            curr_df = curr_df.loc[curr_df[\"reqs_done\"] != 0]\n",
    "            curr_df[\"timestamp_us\"] = (curr_df[\"timestamp\"] * 4) * (10 ** -3)\n",
    "            curr_df.drop(\"timestamp\", axis=1, inplace=True)\n",
    "            curr_df = trim_to_time(curr_df, 0.3)\n",
    "            \n",
    "        curr_df[\"instance_index\"] = i\n",
    "        dfs.append(curr_df)\n",
    "\n",
    "    return pd.concat(dfs)"
   ]
  },
  {
   "cell_type": "code",
   "execution_count": 340,
   "metadata": {},
   "outputs": [],
   "source": [
    "def trim_to_time(input_df, warmup_fraction):\n",
    "    input_df.sort_values(\"timestamp_us\", inplace=True)\n",
    "    first = input_df.iloc[0]\n",
    "    last = input_df.iloc[-1]\n",
    "    timespan = last[\"timestamp_us\"] - first[\"timestamp_us\"]\n",
    "    warmup = timespan/3\n",
    "    start = int(first[\"timestamp_us\"] + warmup)\n",
    "    end = start + warmup\n",
    "    \n",
    "    result = input_df.loc[(input_df[\"timestamp_us\"] >= int(start)) & (input_df[\"timestamp_us\"] < int(end))]\n",
    "    return result"
   ]
  },
  {
   "cell_type": "markdown",
   "metadata": {
    "tags": []
   },
   "source": [
    "## FPGA Data Parsing"
   ]
  },
  {
   "cell_type": "code",
   "execution_count": 350,
   "metadata": {},
   "outputs": [],
   "source": [
    "\n",
    "def calc_fpga_bws(input_df):\n",
    "    instances = input_df.groupby(\"instance_index\")\n",
    "    return instances"
   ]
  },
  {
   "cell_type": "code",
   "execution_count": 358,
   "metadata": {},
   "outputs": [],
   "source": [
    "fpga_dfs = []\n",
    "for i in range(1, 5):\n",
    "    fpga_df = read_in_results(i, \"fpga\", \"rs_encode_scaling/results/\")\n",
    "    fpga_df = calc_bws(fpga_df)\n",
    "    fpga_dfs.append(fpga_df)"
   ]
  },
  {
   "cell_type": "code",
   "execution_count": 514,
   "metadata": {},
   "outputs": [],
   "source": [
    "fpga_dfs_6k = []\n",
    "for i in range(1, 5):\n",
    "    fpga_df = read_in_results(i, \"fpga\", \"rs_encode_scaling/results_6k/\")\n",
    "    fpga_df = calc_bws(fpga_df)\n",
    "    fpga_dfs_6k.append(fpga_df)"
   ]
  },
  {
   "cell_type": "markdown",
   "metadata": {
    "tags": []
   },
   "source": [
    "## CPU Data Parsing"
   ]
  },
  {
   "cell_type": "code",
   "execution_count": 357,
   "metadata": {},
   "outputs": [],
   "source": [
    "cpu_dfs = []\n",
    "for i in range(1, 5):\n",
    "    cpu_df = read_in_results(i, \"cpu\", \"rs_encode_scaling/results/\")\n",
    "    cpu_df = calc_bws(cpu_df)\n",
    "    cpu_dfs.append(cpu_df)"
   ]
  },
  {
   "cell_type": "code",
   "execution_count": 356,
   "metadata": {},
   "outputs": [],
   "source": [
    "def calc_bws(input_df):\n",
    "    instances = input_df.groupby(\"instance_index\")\n",
    "    firsts = instances.min(\"timestamp_us\")\n",
    "    #firsts.rename(columns={\"timestamp_us\", \"timestamp_us_min\"}, inplace=True)\n",
    "    maxes = instances.max(\"timestamp_us\")\n",
    "    #maxes.rename(columns={\"timestamp_us\", \"timestamp_us_max\"}, inplace=True)\n",
    "    joined = pd.merge(firsts, maxes, on=\"instance_index\", suffixes=[\"_min\", \"_max\"])\n",
    "    \n",
    "    joined[\"elapsed_s\"] = (joined[\"timestamp_us_max\"] - joined[\"timestamp_us_min\"]) * (10 ** -6)\n",
    "    joined[\"bits_per_sec\"] = ((joined[\"bytes_sent_max\"] - joined[\"bytes_sent_min\"])*8)/joined[\"elapsed_s\"]\n",
    "    joined[\"reqs_per_sec\"] = (joined[\"reqs_done_max\"] - joined[\"reqs_done_min\"])/joined[\"elapsed_s\"]\n",
    "    joined[\"total_reqs\"] = joined[\"reqs_done_max\"] - joined[\"reqs_done_min\"]\n",
    "    joined.reset_index(inplace=True)\n",
    "\n",
    "    return joined"
   ]
  },
  {
   "cell_type": "code",
   "execution_count": 517,
   "metadata": {},
   "outputs": [],
   "source": [
    "cpu_dfs_6k = []\n",
    "for i in range(1, 5):\n",
    "    cpu_df = read_in_results(i, \"cpu\", \"rs_encode_scaling/results_6k\")\n",
    "    cpu_df = calc_bws(cpu_df)\n",
    "    cpu_dfs_6k.append(cpu_df)"
   ]
  },
  {
   "cell_type": "markdown",
   "metadata": {
    "tags": []
   },
   "source": [
    "## Make BW graph"
   ]
  },
  {
   "cell_type": "code",
   "execution_count": 365,
   "metadata": {},
   "outputs": [],
   "source": [
    "def merge_cpu_fpga(total_instances, cpu, fpga):\n",
    "    dfs = []\n",
    "    for i in range(0, total_instances):\n",
    "        cpu_df = cpu[i]\n",
    "        fpga_df = fpga[i]\n",
    "        selected_cpu_cols = cpu_df[[\"bits_per_sec\", \"reqs_per_sec\", \"total_reqs\"]]\n",
    "        cpu_vals = selected_cpu_cols.sum()\n",
    "        selected_fpga_cols = fpga_df[[\"bits_per_sec\", \"reqs_per_sec\", \"total_reqs\"]]\n",
    "        cpu_vals[\"platform\"] = \"cpu\"\n",
    "        fpga_vals = selected_fpga_cols.sum()\n",
    "        fpga_vals[\"platform\"] = \"fpga\"\n",
    "        \n",
    "        cpu_vals[\"num_instances\"] = cpu_df[\"instance_index\"].nunique()\n",
    "        fpga_vals[\"num_instances\"] = fpga_df[\"instance_index\"].nunique()\n",
    "        cpu_vals[\"gbits_per_sec\"] = cpu_vals[\"bits_per_sec\"]/(10 ** 9)\n",
    "        fpga_vals[\"gbits_per_sec\"] = fpga_vals[\"bits_per_sec\"]/(10 ** 9)\n",
    "        \n",
    "        \n",
    "        dfs.append(cpu_vals)\n",
    "        dfs.append(fpga_vals)\n",
    "        \n",
    "    return pd.DataFrame(dfs)\n",
    "        "
   ]
  },
  {
   "cell_type": "code",
   "execution_count": 530,
   "metadata": {},
   "outputs": [],
   "source": [
    "merged_df = merge_cpu_fpga(4, cpu_dfs, fpga_dfs)"
   ]
  },
  {
   "cell_type": "code",
   "execution_count": 531,
   "metadata": {},
   "outputs": [],
   "source": [
    "merged_df_6k = merge_cpu_fpga(4, cpu_dfs_6k, fpga_dfs_6k)"
   ]
  },
  {
   "cell_type": "code",
   "execution_count": 532,
   "metadata": {},
   "outputs": [],
   "source": [
    "def create_bw_graph(input_dataframe, platforms, markers, colors):\n",
    "    fig, ax = plt.subplots()\n",
    "\n",
    "    subsets = []\n",
    "    legend_labels = []\n",
    "\n",
    "    for platform in platforms:\n",
    "        subset = input_dataframe.loc[input_dataframe.platform.eq(platform)]\n",
    "        subsets.append(subset)\n",
    "        legend_labels.append(platform)\n",
    "\n",
    "    for i in range(0, len(subsets)):\n",
    "        subsets[i].plot(x=\"num_instances\", y=\"gbits_per_sec\", ax=ax, marker=markers[i], color=[colors[i]], label=platforms[i])\n",
    "\n",
    "    x_ticks = input_dataframe[\"num_instances\"].unique()\n",
    "    ax.set_xlabel(\"Application Instances\", fontsize=16)\n",
    "    ax.set_ylabel(\"Goodput (Gbps)\", fontsize=16)\n",
    "    plt.xticks(x_ticks, fontsize=14)\n",
    "    plt.yticks(fontsize=14)\n",
    "    plt.draw()\n",
    "\n",
    "    return fig, ax\n"
   ]
  },
  {
   "cell_type": "code",
   "execution_count": 533,
   "metadata": {},
   "outputs": [
    {
     "data": {
      "image/png": "[encoded data removed]",
      "text/plain": [
       "<Figure size 400x300 with 1 Axes>"
      ]
     },
     "metadata": {},
     "output_type": "display_data"
    }
   ],
   "source": [
    "fig, ax = create_bw_graph(merged_df, [\"cpu\",\"fpga\"], [\"o\", \"s\", \"*\", \"v\"], colors[2:])\n",
    "ax.legend([\"CPU\", \"Beehive\"], fontsize=14)\n",
    "\n",
    "\n",
    "fig.set_size_inches(4, 3)\n",
    "save_fig(\"rs_encoding_scaling.pdf\", fig, OUTPUT_DIR)"
   ]
  },
  {
   "cell_type": "markdown",
   "metadata": {
    "tags": []
   },
   "source": [
    "## Get energy"
   ]
  },
  {
   "cell_type": "code",
   "execution_count": 551,
   "metadata": {},
   "outputs": [],
   "source": [
    "def read_in_energy_df(result_dir, num_instances, cpu_dfs):\n",
    "    energy_df = []\n",
    "    for i in range(1, num_instances + 1):        \n",
    "        fpga_energy = pd.read_csv(f\"{result_dir}/fpga_{i}/energy_fpga.out\")\n",
    "        fpga_energy[\"timestamp_us\"] = fpga_energy[\"timestamp\"] * (10**6)\n",
    "        fpga_energy.drop(\"timestamp\", axis=1, inplace=True)\n",
    "        fpga_energy = trim_to_time(fpga_energy, 0.3)\n",
    "        first_energy = fpga_energy.iloc[0][\"energy_joule\"]\n",
    "        last_energy = fpga_energy.iloc[-1][\"energy_joule\"]\n",
    "\n",
    "        cpu_energy = pd.read_csv(f\"{result_dir}/cpu_{i}/energy_cpu.out\")\n",
    "        cpu_energy[\"timestamp_us\"] = cpu_energy[\"timestamp\"] * (10**6)\n",
    "        cpu_energy.drop(\"timestamp\", axis=1, inplace=True)\n",
    "        cpu_df = cpu_dfs[i-1]\n",
    "        cpu_time_min = cpu_df[\"timestamp_us_min\"].max()\n",
    "        cpu_time_max = cpu_df[\"timestamp_us_max\"].min()\n",
    "        cpu_energy_trimmed = cpu_energy.loc[(cpu_energy[\"timestamp_us\"] >= cpu_time_min) & (cpu_energy[\"timestamp_us\"] < cpu_time_max)]\n",
    "        first_cpu_energy = cpu_energy_trimmed.iloc[0][\"energy_joule\"]\n",
    "        last_cpu_energy = cpu_energy_trimmed.iloc[-1][\"energy_joule\"]\n",
    "\n",
    "\n",
    "        energy_df.append({\"energy_joule\": last_energy - first_energy, \"num_instances\": i, \"platform\": \"fpga\"})\n",
    "        energy_df.append({\"energy_joule\": last_cpu_energy - first_cpu_energy, \"num_instances\": i, \"platform\": \"cpu\"})\n",
    "\n",
    "\n",
    "    energy_df = pd.DataFrame(energy_df)\n",
    "    return energy_df\n",
    "    "
   ]
  },
  {
   "cell_type": "code",
   "execution_count": 552,
   "metadata": {},
   "outputs": [],
   "source": [
    "energy_df = read_in_energy_df(\"rs_encode_scaling/results/\", 4, cpu_dfs)"
   ]
  },
  {
   "cell_type": "code",
   "execution_count": 553,
   "metadata": {},
   "outputs": [],
   "source": [
    "energy_df_6k = read_in_energy_df(\"rs_encode_scaling/results_6k/\", 4, cpu_dfs_6k)"
   ]
  },
  {
   "cell_type": "code",
   "execution_count": 536,
   "metadata": {},
   "outputs": [],
   "source": [
    "merged_energy = pd.merge(energy_df, merged_df, on=[\"num_instances\", \"platform\"])\n",
    "merged_energy[\"joule_per_op\"] = merged_energy[\"energy_joule\"]/merged_energy[\"total_reqs\"]\n",
    "merged_energy[\"mj_per_op\"] = merged_energy[\"joule_per_op\"] * 1000\n",
    "graph_energy = merged_energy[[\"mj_per_op\", \"platform\", \"num_instances\"]]"
   ]
  },
  {
   "cell_type": "code",
   "execution_count": 554,
   "metadata": {},
   "outputs": [],
   "source": [
    "merged_energy_6k = pd.merge(energy_df_6k, merged_df_6k, on=[\"num_instances\", \"platform\"])\n",
    "merged_energy_6k[\"joule_per_op\"] = merged_energy_6k[\"energy_joule\"]/merged_energy_6k[\"total_reqs\"]\n",
    "merged_energy_6k[\"mj_per_op\"] = merged_energy_6k[\"joule_per_op\"] * 1000\n",
    "graph_energy_6k = merged_energy_6k[[\"mj_per_op\", \"platform\", \"num_instances\"]]"
   ]
  },
  {
   "cell_type": "code",
   "execution_count": 555,
   "metadata": {},
   "outputs": [
    {
     "data": {
      "text/html": [
       "<div>\n",
       "<style scoped>\n",
       "    .dataframe tbody tr th:only-of-type {\n",
       "        vertical-align: middle;\n",
       "    }\n",
       "\n",
       "    .dataframe tbody tr th {\n",
       "        vertical-align: top;\n",
       "    }\n",
       "\n",
       "    .dataframe thead th {\n",
       "        text-align: right;\n",
       "    }\n",
       "</style>\n",
       "<table border=\"1\" class=\"dataframe\">\n",
       "  <thead>\n",
       "    <tr style=\"text-align: right;\">\n",
       "      <th></th>\n",
       "      <th>mj_per_op</th>\n",
       "      <th>platform</th>\n",
       "      <th>num_instances</th>\n",
       "    </tr>\n",
       "  </thead>\n",
       "  <tbody>\n",
       "    <tr>\n",
       "      <th>0</th>\n",
       "      <td>0.050600</td>\n",
       "      <td>fpga</td>\n",
       "      <td>1</td>\n",
       "    </tr>\n",
       "    <tr>\n",
       "      <th>1</th>\n",
       "      <td>1.466940</td>\n",
       "      <td>cpu</td>\n",
       "      <td>1</td>\n",
       "    </tr>\n",
       "    <tr>\n",
       "      <th>2</th>\n",
       "      <td>0.027547</td>\n",
       "      <td>fpga</td>\n",
       "      <td>2</td>\n",
       "    </tr>\n",
       "    <tr>\n",
       "      <th>3</th>\n",
       "      <td>0.630156</td>\n",
       "      <td>cpu</td>\n",
       "      <td>2</td>\n",
       "    </tr>\n",
       "    <tr>\n",
       "      <th>4</th>\n",
       "      <td>0.019753</td>\n",
       "      <td>fpga</td>\n",
       "      <td>3</td>\n",
       "    </tr>\n",
       "    <tr>\n",
       "      <th>5</th>\n",
       "      <td>0.464434</td>\n",
       "      <td>cpu</td>\n",
       "      <td>3</td>\n",
       "    </tr>\n",
       "    <tr>\n",
       "      <th>6</th>\n",
       "      <td>0.017251</td>\n",
       "      <td>fpga</td>\n",
       "      <td>4</td>\n",
       "    </tr>\n",
       "    <tr>\n",
       "      <th>7</th>\n",
       "      <td>0.402629</td>\n",
       "      <td>cpu</td>\n",
       "      <td>4</td>\n",
       "    </tr>\n",
       "  </tbody>\n",
       "</table>\n",
       "</div>"
      ],
      "text/plain": [
       "   mj_per_op platform  num_instances\n",
       "0   0.050600     fpga              1\n",
       "1   1.466940      cpu              1\n",
       "2   0.027547     fpga              2\n",
       "3   0.630156      cpu              2\n",
       "4   0.019753     fpga              3\n",
       "5   0.464434      cpu              3\n",
       "6   0.017251     fpga              4\n",
       "7   0.402629      cpu              4"
      ]
     },
     "execution_count": 555,
     "metadata": {},
     "output_type": "execute_result"
    }
   ],
   "source": [
    "graph_energy_6k"
   ]
  },
  {
   "cell_type": "code",
   "execution_count": 537,
   "metadata": {},
   "outputs": [],
   "source": [
    "def create_energy_bar(input_pivot):\n",
    "    fig, ax = plt.subplots()\n",
    "    input_pivot.plot.bar(ax=ax, color=colors[2:], width=0.9)\n",
    "    for container in ax.containers:\n",
    "        ax.bar_label(container,fmt=\"%.2f\", fontsize=14)\n",
    "    ax.legend([\"CPU\", \"Beehive\"], fontsize=14)\n",
    "    ax.set_ylabel(\"Energy (mj/op)\", fontsize=16)\n",
    "    ax.set_xlabel(\"# of application instances\", fontsize=16)\n",
    "    ax.set_xticks(ax.get_xticks(), labels=ax.get_xticklabels(), fontsize=12)\n",
    "    ax.set_yticks(ax.get_yticks(), labels=ax.get_yticklabels(), fontsize=12)\n",
    "    ax.get_legend().set_title(\"Platform\")\n",
    "    ax.get_legend().get_title().set_fontsize(14)\n",
    "    ax.set_ylim([0, 1.3])\n",
    "    \n",
    "    return fig, ax\n"
   ]
  },
  {
   "cell_type": "code",
   "execution_count": 538,
   "metadata": {},
   "outputs": [
    {
     "data": {
      "image/png": "[encoded data removed]",
      "text/plain": [
       "<Figure size 400x300 with 1 Axes>"
      ]
     },
     "metadata": {},
     "output_type": "display_data"
    }
   ],
   "source": [
    "bars_pivot = graph_energy.pivot(index=\"num_instances\", columns=\"platform\", values=\"mj_per_op\")\n",
    "fig, ax = create_energy_bar(bars_pivot)\n",
    "fig.set_size_inches(4, 3)\n",
    "save_fig(\"rs_encoding_energy.pdf\", fig, OUTPUT_DIR)"
   ]
  },
  {
   "cell_type": "code",
   "execution_count": 570,
   "metadata": {},
   "outputs": [
    {
     "data": {
      "text/html": [
       "<div>\n",
       "<style scoped>\n",
       "    .dataframe tbody tr th:only-of-type {\n",
       "        vertical-align: middle;\n",
       "    }\n",
       "\n",
       "    .dataframe tbody tr th {\n",
       "        vertical-align: top;\n",
       "    }\n",
       "\n",
       "    .dataframe thead th {\n",
       "        text-align: right;\n",
       "    }\n",
       "</style>\n",
       "<table border=\"1\" class=\"dataframe\">\n",
       "  <thead>\n",
       "    <tr style=\"text-align: right;\">\n",
       "      <th>platform</th>\n",
       "      <th>cpu</th>\n",
       "      <th>fpga</th>\n",
       "    </tr>\n",
       "    <tr>\n",
       "      <th>num_instances</th>\n",
       "      <th></th>\n",
       "      <th></th>\n",
       "    </tr>\n",
       "  </thead>\n",
       "  <tbody>\n",
       "    <tr>\n",
       "      <th>1</th>\n",
       "      <td>1.466940</td>\n",
       "      <td>0.050600</td>\n",
       "    </tr>\n",
       "    <tr>\n",
       "      <th>2</th>\n",
       "      <td>0.630156</td>\n",
       "      <td>0.027547</td>\n",
       "    </tr>\n",
       "    <tr>\n",
       "      <th>3</th>\n",
       "      <td>0.464434</td>\n",
       "      <td>0.019753</td>\n",
       "    </tr>\n",
       "    <tr>\n",
       "      <th>4</th>\n",
       "      <td>0.402629</td>\n",
       "      <td>0.017251</td>\n",
       "    </tr>\n",
       "  </tbody>\n",
       "</table>\n",
       "</div>"
      ],
      "text/plain": [
       "platform            cpu      fpga\n",
       "num_instances                    \n",
       "1              1.466940  0.050600\n",
       "2              0.630156  0.027547\n",
       "3              0.464434  0.019753\n",
       "4              0.402629  0.017251"
      ]
     },
     "execution_count": 570,
     "metadata": {},
     "output_type": "execute_result"
    }
   ],
   "source": [
    "pivot_energy_6k = graph_energy_6k.pivot(index=\"num_instances\", columns=\"platform\", values=\"mj_per_op\")\n",
    "energy_speedup_6k = pivot_energy_6k[\"cpu\"]/pivot_energy_6k[\"fpga\"]\n",
    "pivot_energy_6k"
   ]
  },
  {
   "cell_type": "code",
   "execution_count": 564,
   "metadata": {},
   "outputs": [
    {
     "data": {
      "text/plain": [
       "num_instances\n",
       "1    10.223020\n",
       "2     8.343487\n",
       "3     8.711480\n",
       "4     8.890414\n",
       "dtype: float64"
      ]
     },
     "execution_count": 564,
     "metadata": {},
     "output_type": "execute_result"
    }
   ],
   "source": [
    "pivot_6k = merged_df_6k.pivot(index='num_instances', columns='platform', values='gbits_per_sec')\n",
    "pivot_6k\n",
    "speedup = pivot_6k[\"fpga\"]/pivot_6k[\"cpu\"]\n",
    "speedup"
   ]
  },
  {
   "cell_type": "code",
   "execution_count": 565,
   "metadata": {},
   "outputs": [
    {
     "data": {
      "text/html": [
       "<div>\n",
       "<style scoped>\n",
       "    .dataframe tbody tr th:only-of-type {\n",
       "        vertical-align: middle;\n",
       "    }\n",
       "\n",
       "    .dataframe tbody tr th {\n",
       "        vertical-align: top;\n",
       "    }\n",
       "\n",
       "    .dataframe thead th {\n",
       "        text-align: right;\n",
       "    }\n",
       "</style>\n",
       "<table border=\"1\" class=\"dataframe\">\n",
       "  <thead>\n",
       "    <tr style=\"text-align: right;\">\n",
       "      <th>platform</th>\n",
       "      <th>cpu</th>\n",
       "      <th>fpga</th>\n",
       "    </tr>\n",
       "    <tr>\n",
       "      <th>num_instances</th>\n",
       "      <th></th>\n",
       "      <th></th>\n",
       "    </tr>\n",
       "  </thead>\n",
       "  <tbody>\n",
       "    <tr>\n",
       "      <th>1</th>\n",
       "      <td>2.635950</td>\n",
       "      <td>26.947367</td>\n",
       "    </tr>\n",
       "    <tr>\n",
       "      <th>2</th>\n",
       "      <td>6.459497</td>\n",
       "      <td>53.894734</td>\n",
       "    </tr>\n",
       "    <tr>\n",
       "      <th>3</th>\n",
       "      <td>9.279952</td>\n",
       "      <td>80.842110</td>\n",
       "    </tr>\n",
       "    <tr>\n",
       "      <th>4</th>\n",
       "      <td>11.145444</td>\n",
       "      <td>99.087610</td>\n",
       "    </tr>\n",
       "  </tbody>\n",
       "</table>\n",
       "</div>"
      ],
      "text/plain": [
       "platform             cpu       fpga\n",
       "num_instances                      \n",
       "1               2.635950  26.947367\n",
       "2               6.459497  53.894734\n",
       "3               9.279952  80.842110\n",
       "4              11.145444  99.087610"
      ]
     },
     "execution_count": 565,
     "metadata": {},
     "output_type": "execute_result"
    }
   ],
   "source": [
    "pivot_"
   ]
  },
  {
   "cell_type": "code",
   "execution_count": 539,
   "metadata": {},
   "outputs": [
    {
     "data": {
      "text/plain": [
       "num_instances\n",
       "1    7.615243\n",
       "2    7.687163\n",
       "3    7.680940\n",
       "4    7.739064\n",
       "dtype: float64"
      ]
     },
     "execution_count": 539,
     "metadata": {},
     "output_type": "execute_result"
    }
   ],
   "source": [
    "pivot_df = merged_df.pivot(index='num_instances', columns='platform', values='gbits_per_sec')\n",
    "speedup = pivot_df[\"fpga\"]/pivot_df[\"cpu\"]\n",
    "speedup"
   ]
  },
  {
   "cell_type": "code",
   "execution_count": null,
   "metadata": {},
   "outputs": [],
   "source": []
  },
  {
   "cell_type": "code",
   "execution_count": 575,
   "metadata": {},
   "outputs": [
    {
     "data": {
      "text/plain": [
       "23.705882352941178"
      ]
     },
     "execution_count": 575,
     "metadata": {},
     "output_type": "execute_result"
    }
   ],
   "source": [
    "0.403/0.017"
   ]
  },
  {
   "cell_type": "markdown",
   "metadata": {
    "tags": []
   },
   "source": [
    "# Old results"
   ]
  },
  {
   "cell_type": "code",
   "execution_count": 4,
   "metadata": {},
   "outputs": [],
   "source": [
    "def process_raw_logs(input_dataframe):\n",
    "    tmp = input_dataframe.assign(avg_agg_gbps=lambda row: row[\"avg_agg_bps\"]/(10**9))\n",
    "    return tmp"
   ]
  },
  {
   "cell_type": "code",
   "execution_count": 5,
   "metadata": {},
   "outputs": [],
   "source": [
    "def save_fig(file_name, figure, output_dir):\n",
    "    figure.patch.set_facecolor(\"white\")\n",
    "    figure.savefig(output_dir + file_name, bbox_inches=\"tight\")"
   ]
  },
  {
   "cell_type": "code",
   "execution_count": 6,
   "metadata": {},
   "outputs": [],
   "source": [
    "rs_encode_data = pd.read_csv(\"rs_encode_scaling.csv\")\n",
    "rs_encode_data_processed = process_raw_logs(rs_encode_data)"
   ]
  },
  {
   "cell_type": "code",
   "execution_count": 7,
   "metadata": {},
   "outputs": [
    {
     "data": {
      "text/plain": [
       "0    0.469908\n",
       "1    0.939802\n",
       "2    1.409701\n",
       "3    1.731991\n",
       "Name: avg_agg_reqs_per_sec, dtype: float64"
      ]
     },
     "execution_count": 7,
     "metadata": {},
     "output_type": "execute_result"
    }
   ],
   "source": [
    "rs_encode_data_processed\n",
    "rs_encode_data_processed[\"avg_agg_reqs_per_sec\"]/(10**6)"
   ]
  },
  {
   "cell_type": "code",
   "execution_count": 40,
   "metadata": {},
   "outputs": [
    {
     "data": {
      "image/png": "[encoded data removed]",
      "text/plain": [
       "<Figure size 720x72 with 1 Axes>"
      ]
     },
     "metadata": {
      "needs_background": "light"
     },
     "output_type": "display_data"
    }
   ],
   "source": [
    "scatter_colors = sns.cubehelix_palette(n_colors=10, start=2, hue=3, rot=4, light=0.3, dark=0.7, reverse=True)\n",
    "sns.palplot(scatter_colors)\n",
    "\n",
    "selected_colors=[scatter_colors[8], scatter_colors[3], scatter_colors[0], scatter_colors[6]]"
   ]
  },
  {
   "cell_type": "code",
   "execution_count": 41,
   "metadata": {},
   "outputs": [],
   "source": [
    "def create_rs_scaling_bars(dataframe, colors):\n",
    "    fig, ax = plt.subplots()\n",
    "    sns.barplot(x=\"num_apps\", y=\"avg_agg_gbps\", data=dataframe, palette=colors)\n",
    "    \n",
    "    ax.set_xlabel(\"Reed-Solomon Encoder Tiles\", fontsize=14)\n",
    "    ax.set_ylabel(\"Aggregate Goodput (Gbps)\", fontsize=14)\n",
    "\n",
    "    return fig,ax"
   ]
  },
  {
   "cell_type": "code",
   "execution_count": 42,
   "metadata": {},
   "outputs": [
    {
     "data": {
      "image/png": "[encoded data removed]",
      "text/plain": [
       "<Figure size 432x288 with 1 Axes>"
      ]
     },
     "metadata": {},
     "output_type": "display_data"
    }
   ],
   "source": [
    "fig, ax = create_rs_scaling_bars(rs_encode_data_processed, selected_colors)\n",
    "ax.set_title(\"Goodput vs Reed-Solomon Encoder Instances\", fontsize=16)\n",
    "save_fig(\"bw_rs_encoder_vs_num_tiles.pdf\", fig, OUTPUT_DIR)\n"
   ]
  },
  {
   "cell_type": "code",
   "execution_count": null,
   "metadata": {},
   "outputs": [],
   "source": []
  }
 ],
 "metadata": {
  "interpreter": {
   "hash": "37e4bb39bbe0ca4001e347e8b91e0b0daeef423b66a1e961ebd6efa517796252"
  },
  "kernelspec": {
   "display_name": "Python 3 (ipykernel)",
   "language": "python",
   "name": "python3"
  },
  "language_info": {
   "codemirror_mode": {
    "name": "ipython",
    "version": 3
   },
   "file_extension": ".py",
   "mimetype": "text/x-python",
   "name": "python",
   "nbconvert_exporter": "python",
   "pygments_lexer": "ipython3",
   "version": "3.9.18"
  }
 },
 "nbformat": 4,
 "nbformat_minor": 4
}
